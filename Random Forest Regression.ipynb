{
 "cells": [
  {
   "cell_type": "markdown",
   "id": "f85cf0b4",
   "metadata": {},
   "source": [
    "# Data preprocessing\n",
    "- Benodigde libraries importeren\n",
    "- De aangemaakt CSV-bestanden inlezen\n",
    "- Tijdrange overeen laten komen."
   ]
  },
  {
   "cell_type": "code",
   "execution_count": 35,
   "metadata": {},
   "outputs": [],
   "source": [
    "# Importeren benodigde libraries\n",
    "import pandas as pd\n",
    "import matplotlib.pyplot as plt\n",
    "import numpy as np\n",
    "from os import path, getcwd"
   ]
  },
  {
   "cell_type": "code",
   "execution_count": 36,
   "id": "4c687361",
   "metadata": {},
   "outputs": [],
   "source": [
    "# Dataset path\n",
    "root_dir = path.join(getcwd(), 'Datasets')\n",
    "\n",
    "# Inlezen benodigde CSV-bestanden\n",
    "df_per_dag = pd.read_csv(path.join(root_dir, \"data_per_dag.csv\"))\n",
    "df_per_leeftijd = pd.read_csv(path.join(root_dir, \"data_per_leeftijd.csv\"))\n",
    "\n",
    "# Eerste week van df_per_dag halen, zodat de tijdranges in beide datasets overeen komen.\n",
    "df_per_dag[\"Date_adj\"] = pd.to_datetime(df_per_dag[\"Date_adj\"])\n",
    "df_per_dag = df_per_dag.loc[df_per_dag[\"Date_adj\"] >= \"23-03-2020\"]"
   ]
  },
  {
   "cell_type": "markdown",
   "id": "0ae9c7ef",
   "metadata": {},
   "source": [
    "# Aantal IC-opnames per dag\n",
    "Aan de hand van volgende features wordt bepaald hoeveel personen opgenomen zijn op de IC met een Covid-19 infectie:\n",
    "- Aanwezig op verpleegafdeling verdacht of bewezen Corona\t\n",
    "- Opname IC Corona \n",
    "- Opname IC verdacht\n",
    "- Opname IC totaal\n",
    "- Opname verpleegafdeling Corona\n",
    "- Opname verpleegafdeling verdacht\n",
    "- Opname verpleegafdeling totaal"
   ]
  },
  {
   "cell_type": "code",
   "execution_count": 37,
   "id": "720d4ece",
   "metadata": {},
   "outputs": [],
   "source": [
    "# Importeren juiste libraries\n",
    "from sklearn.ensemble import RandomForestRegressor\n",
    "from sklearn.model_selection import GridSearchCV\n",
    "from sklearn.model_selection import train_test_split\n",
    "from sklearn.metrics import r2_score, mean_squared_error, mean_absolute_error"
   ]
  },
  {
   "cell_type": "code",
   "execution_count": 38,
   "id": "f0d61c0e",
   "metadata": {},
   "outputs": [
    {
     "name": "stderr",
     "output_type": "stream",
     "text": [
      "C:\\Users\\Gebruiker\\AppData\\Local\\Programs\\Python\\Python39\\lib\\site-packages\\sklearn\\base.py:445: UserWarning: X does not have valid feature names, but RandomForestRegressor was fitted with feature names\n",
      "  warnings.warn(\n"
     ]
    },
    {
     "name": "stdout",
     "output_type": "stream",
     "text": [
      "Best parameters: {'max_depth': 13, 'max_leaf_nodes': 70, 'min_samples_leaf': 1, 'n_estimators': 45}\n",
      "Regression statistics:\n",
      "Mean squared error: 4986.22\n",
      "Root mean squared error: 70.61\n",
      "Mean absolute error: 43.94\n",
      "Coefficient of determination: 0.95\n",
      "Adjusted r2 : 0.94\n",
      "Out-of-Back error: 0.96\n"
     ]
    },
    {
     "data": {
      "image/png": "[encoded data removed]",
      "text/plain": [
       "<Figure size 1080x288 with 1 Axes>"
      ]
     },
     "metadata": {
      "needs_background": "light"
     },
     "output_type": "display_data"
    }
   ],
   "source": [
    "# Get features \n",
    "x_forest = df_per_dag.drop([\"Aanwezig op IC verdacht of bewezen Corona\", \"Date_adj\"], axis=1)\n",
    "y_forest = df_per_dag[\"Aanwezig op IC verdacht of bewezen Corona\"]\n",
    "\n",
    "# New split\n",
    "x_train_forest, x_test_forest, y_train_forest, y_test_forest = train_test_split(x_forest, y_forest, test_size=0.2, random_state=42)\n",
    "\n",
    "# create a regressor object and set oob_score to True.\n",
    "regressor = RandomForestRegressor(random_state = 42, criterion=\"squared_error\", oob_score=True)\n",
    "\n",
    "# Create model with a max_depth for 5 to 15 and pick the best one using 2 fold cross validation.\n",
    "# The parameters max_depth, n_estimators, min_samples_leaf and max_leaf_nodes are also decided using cross validation.\n",
    "parameters = { 'max_depth':range(5,15, 2), 'n_estimators':range(20,50, 5), 'max_leaf_nodes':range(20,75,5), 'min_samples_leaf':range(1,10)}\n",
    "cv = GridSearchCV(regressor, parameters, n_jobs=4)\n",
    "cv.fit(X=x_train_forest, y=y_train_forest)\n",
    "\n",
    "# Display chosen parameters\n",
    "print(f'Best parameters: {cv.best_params_}')\n",
    "best_model = cv.best_estimator_\n",
    "\n",
    "# Display chosen features and their scores\n",
    "importance = {best_model.feature_names_in_[i]:best_model.feature_importances_[i] for i in range(0,len(best_model.feature_importances_)) if best_model.feature_importances_[i] > 0}\n",
    "\n",
    "# Display chosen parameters\n",
    "importance_list = importance.items()\n",
    "\n",
    "x_rf, y_rf = zip(*importance_list)\n",
    "\n",
    "plt.figure(figsize=(15,4))\n",
    "plt.bar(x_rf, y_rf)\n",
    "plt.xlabel(\"Features\")\n",
    "plt.ylabel(\"Importance\")\n",
    "plt.xticks(rotation=\"vertical\")\n",
    "plt.title(\"Importance per feature\")\n",
    "\n",
    "# predict the test set using the best model\n",
    "y_pred_tree = best_model.predict(x_test_forest)\n",
    "\n",
    "# Calculate statistics\n",
    "def show_stats(x_test, y_test, y_pred):\n",
    "    n_samples = len(x_test.index)\n",
    "    p_freedom = len(x_test.columns)\n",
    "    r2 = r2_score(y_test, y_pred)\n",
    "    adj_r2 = 1-(1-r2)*(n_samples-1)/(n_samples-p_freedom-1)\n",
    "    oob = best_model.oob_score_\n",
    "\n",
    "    print(\"Regression statistics:\")\n",
    "    print(\"Mean squared error: %.2f\" % mean_squared_error(y_test, y_pred))\n",
    "    print(\"Root mean squared error: %.2f\" % np.sqrt(mean_squared_error(y_test, y_pred)))\n",
    "    print(\"Mean absolute error: %.2f\" % mean_absolute_error(y_test, y_pred))\n",
    "    print(\"Coefficient of determination: %.2f\" % r2)\n",
    "    print(\"Adjusted r2 : %.2f\" % adj_r2)\n",
    "    print(\"Out-of-Back error: %.2f\" % oob)\n",
    "\n",
    "show_stats(x_test_forest, y_test_forest, y_pred_tree)"
   ]
  },
  {
   "cell_type": "markdown",
   "id": "834cb5c5",
   "metadata": {},
   "source": [
    "Uit de resultaten van de analyse scoort hoog, dit blijkt uit de score van de squarred root (R2), adjusted squarred root en de out-of-back score.  "
   ]
  },
  {
   "cell_type": "markdown",
   "id": "0197a386",
   "metadata": {},
   "source": [
    "## Aantal besmettingen per leeftijdsgroep\n",
    "Gebruikmakend van de volgende features wordt bepaald hoeveel personen die geïnfecteerd zijn geraakt met Covid-19 op de IC belanden:\n",
    "- Hospital_admission\n",
    "- Infection\n",
    "- Age_catergory"
   ]
  },
  {
   "cell_type": "code",
   "execution_count": 39,
   "id": "045d44df",
   "metadata": {},
   "outputs": [
    {
     "data": {
      "text/html": [
       "<div>\n",
       "<style scoped>\n",
       "    .dataframe tbody tr th:only-of-type {\n",
       "        vertical-align: middle;\n",
       "    }\n",
       "\n",
       "    .dataframe tbody tr th {\n",
       "        vertical-align: top;\n",
       "    }\n",
       "\n",
       "    .dataframe thead th {\n",
       "        text-align: right;\n",
       "    }\n",
       "</style>\n",
       "<table border=\"1\" class=\"dataframe\">\n",
       "  <thead>\n",
       "    <tr style=\"text-align: right;\">\n",
       "      <th></th>\n",
       "      <th>Date_adj</th>\n",
       "      <th>Age_group</th>\n",
       "      <th>Hospital_admission</th>\n",
       "      <th>IC_admission</th>\n",
       "      <th>Infection</th>\n",
       "      <th>Age_category</th>\n",
       "    </tr>\n",
       "  </thead>\n",
       "  <tbody>\n",
       "    <tr>\n",
       "      <th>0</th>\n",
       "      <td>2020-03-23</td>\n",
       "      <td>0-19</td>\n",
       "      <td>16.0</td>\n",
       "      <td>1.0</td>\n",
       "      <td>71</td>\n",
       "      <td>0</td>\n",
       "    </tr>\n",
       "    <tr>\n",
       "      <th>1</th>\n",
       "      <td>2020-03-23</td>\n",
       "      <td>20-29</td>\n",
       "      <td>28.0</td>\n",
       "      <td>6.0</td>\n",
       "      <td>504</td>\n",
       "      <td>1</td>\n",
       "    </tr>\n",
       "    <tr>\n",
       "      <th>2</th>\n",
       "      <td>2020-03-23</td>\n",
       "      <td>30-39</td>\n",
       "      <td>90.0</td>\n",
       "      <td>10.0</td>\n",
       "      <td>551</td>\n",
       "      <td>2</td>\n",
       "    </tr>\n",
       "    <tr>\n",
       "      <th>3</th>\n",
       "      <td>2020-03-23</td>\n",
       "      <td>40-49</td>\n",
       "      <td>190.0</td>\n",
       "      <td>44.0</td>\n",
       "      <td>718</td>\n",
       "      <td>3</td>\n",
       "    </tr>\n",
       "    <tr>\n",
       "      <th>4</th>\n",
       "      <td>2020-03-23</td>\n",
       "      <td>50-59</td>\n",
       "      <td>547.0</td>\n",
       "      <td>147.0</td>\n",
       "      <td>1176</td>\n",
       "      <td>4</td>\n",
       "    </tr>\n",
       "    <tr>\n",
       "      <th>5</th>\n",
       "      <td>2020-03-23</td>\n",
       "      <td>60-69</td>\n",
       "      <td>730.0</td>\n",
       "      <td>246.0</td>\n",
       "      <td>971</td>\n",
       "      <td>5</td>\n",
       "    </tr>\n",
       "    <tr>\n",
       "      <th>6</th>\n",
       "      <td>2020-03-23</td>\n",
       "      <td>70-79</td>\n",
       "      <td>1072.0</td>\n",
       "      <td>273.0</td>\n",
       "      <td>1148</td>\n",
       "      <td>6</td>\n",
       "    </tr>\n",
       "    <tr>\n",
       "      <th>7</th>\n",
       "      <td>2020-03-23</td>\n",
       "      <td>80-89</td>\n",
       "      <td>564.0</td>\n",
       "      <td>23.0</td>\n",
       "      <td>1280</td>\n",
       "      <td>7</td>\n",
       "    </tr>\n",
       "    <tr>\n",
       "      <th>8</th>\n",
       "      <td>2020-03-23</td>\n",
       "      <td>90+</td>\n",
       "      <td>53.0</td>\n",
       "      <td>0.0</td>\n",
       "      <td>462</td>\n",
       "      <td>8</td>\n",
       "    </tr>\n",
       "  </tbody>\n",
       "</table>\n",
       "</div>"
      ],
      "text/plain": [
       "     Date_adj Age_group  Hospital_admission  IC_admission  Infection  \\\n",
       "0  2020-03-23      0-19                16.0           1.0         71   \n",
       "1  2020-03-23     20-29                28.0           6.0        504   \n",
       "2  2020-03-23     30-39                90.0          10.0        551   \n",
       "3  2020-03-23     40-49               190.0          44.0        718   \n",
       "4  2020-03-23     50-59               547.0         147.0       1176   \n",
       "5  2020-03-23     60-69               730.0         246.0        971   \n",
       "6  2020-03-23     70-79              1072.0         273.0       1148   \n",
       "7  2020-03-23     80-89               564.0          23.0       1280   \n",
       "8  2020-03-23       90+                53.0           0.0        462   \n",
       "\n",
       "   Age_category  \n",
       "0             0  \n",
       "1             1  \n",
       "2             2  \n",
       "3             3  \n",
       "4             4  \n",
       "5             5  \n",
       "6             6  \n",
       "7             7  \n",
       "8             8  "
      ]
     },
     "execution_count": 39,
     "metadata": {},
     "output_type": "execute_result"
    }
   ],
   "source": [
    "from sklearn import preprocessing\n",
    "le = preprocessing.LabelEncoder()\n",
    "\n",
    "# Iedere leeftijd wordt toegekend aan een boolean, zodat de leeftijdsgroepen gebruikt kunnen worden bij het bewerkstelligen van het Random Forest.\n",
    "# De eerste 10 regels worden getoond, zodat duidelijk is welke leeftijdsgroep welk getal krijgt.\n",
    "df_per_leeftijd['Age_category']= le.fit_transform(df_per_leeftijd['Age_group'])\n",
    "df_per_leeftijd.head(9)"
   ]
  },
  {
   "cell_type": "code",
   "execution_count": 40,
   "id": "496d8b7d",
   "metadata": {},
   "outputs": [
    {
     "name": "stdout",
     "output_type": "stream",
     "text": [
      "Best parameters: {'max_depth': 7, 'max_leaf_nodes': 45, 'min_samples_leaf': 1, 'n_estimators': 20}\n",
      "Regression statistics:\n",
      "Mean squared error: 63.44\n",
      "Root mean squared error: 7.96\n",
      "Mean absolute error: 3.43\n",
      "Coefficient of determination: 0.91\n",
      "Adjusted r2 : 0.91\n",
      "Out-of-Back error: 0.95\n"
     ]
    },
    {
     "name": "stderr",
     "output_type": "stream",
     "text": [
      "C:\\Users\\Gebruiker\\AppData\\Local\\Programs\\Python\\Python39\\lib\\site-packages\\sklearn\\base.py:445: UserWarning: X does not have valid feature names, but RandomForestRegressor was fitted with feature names\n",
      "  warnings.warn(\n"
     ]
    },
    {
     "data": {
      "image/png": "[encoded data removed]",
      "text/plain": [
       "<Figure size 1080x288 with 1 Axes>"
      ]
     },
     "metadata": {
      "needs_background": "light"
     },
     "output_type": "display_data"
    }
   ],
   "source": [
    "# Get features \n",
    "x_forest_leeftijd = df_per_leeftijd.drop([\"IC_admission\", \"Date_adj\", \"Age_group\"], axis=1)\n",
    "y_forest_leeftijd = df_per_leeftijd[\"IC_admission\"]\n",
    "\n",
    "# New split\n",
    "x_train_forest, x_test_forest, y_train_forest, y_test_forest = train_test_split(x_forest_leeftijd, y_forest_leeftijd, test_size=0.2, random_state=42)\n",
    "\n",
    "# create a regressor object and set oob_score to True.\n",
    "regressor = RandomForestRegressor(random_state = 42, criterion=\"squared_error\", oob_score=True)\n",
    "\n",
    "# Create model with a max_depth for 1 to 10.\n",
    "# The parameters n_estimators, max_depth, min_samples_leaf and max_leaf_nodes are also decided using cross validation.\n",
    "parameters = { 'max_depth':range(1,10), 'n_estimators':range(5,30, 5), 'max_leaf_nodes':range(5,50,5), 'min_samples_leaf':range(1,10)}\n",
    "cv = GridSearchCV(regressor, parameters, n_jobs=4)\n",
    "cv.fit(X=x_train_forest, y=y_train_forest)\n",
    "error_score='raise'\n",
    "\n",
    "# Display chosen parameters\n",
    "print(f'Best parameters: {cv.best_params_}')\n",
    "best_model = cv.best_estimator_\n",
    "\n",
    "# Display chosen features and their scores\n",
    "importance = {best_model.feature_names_in_[i]:best_model.feature_importances_[i] for i in range(0,len(best_model.feature_importances_)) if best_model.feature_importances_[i] > 0}\n",
    "\n",
    "# Display chosen parameters\n",
    "importance_list = importance.items()\n",
    "\n",
    "x_rf, y_rf = zip(*importance_list)\n",
    "\n",
    "plt.figure(figsize=(15,4))\n",
    "plt.bar(x_rf, y_rf)\n",
    "plt.xlabel(\"Features\")\n",
    "plt.ylabel(\"Importance\")\n",
    "plt.xticks(rotation=\"vertical\")\n",
    "plt.title(\"Importance per feature\")\n",
    "\n",
    "\n",
    "# predict the test set using the best model\n",
    "y_pred_tree = best_model.predict(x_test_forest)\n",
    "\n",
    "# Calculate statistics\n",
    "def show_stats(x_test, y_test, y_pred):\n",
    "    n_samples = len(x_test.index)\n",
    "    p_freedom = len(x_test.columns)\n",
    "    r2 = r2_score(y_test, y_pred)\n",
    "    adj_r2 = 1-(1-r2)*(n_samples-1)/(n_samples-p_freedom-1)\n",
    "    oob = best_model.oob_score_\n",
    "\n",
    "    print(\"Regression statistics:\")\n",
    "    print(\"Mean squared error: %.2f\" % mean_squared_error(y_test, y_pred))\n",
    "    print(\"Root mean squared error: %.2f\" % np.sqrt(mean_squared_error(y_test, y_pred)))\n",
    "    print(\"Mean absolute error: %.2f\" % mean_absolute_error(y_test, y_pred))\n",
    "    print(\"Coefficient of determination: %.2f\" % r2)\n",
    "    print(\"Adjusted r2 : %.2f\" % adj_r2)\n",
    "    print(\"Out-of-Back error: %.2f\" % oob)\n",
    "\n",
    "show_stats(x_test_forest, y_test_forest, y_pred_tree)"
   ]
  },
  {
   "cell_type": "markdown",
   "id": "b0df7a47",
   "metadata": {},
   "source": [
    "Net zoals het Random Forest die gemaakt is van het aantal IC-opnames per dag scoort dit random Forest zeer hoog. Echter zijn de R2, adjusted R2 score en Out-of-Back error wel lager dan bij het aantal IC-opnames per dag, de verschillen zien als volgt uit:\n",
    "- Coefficient of Determination (R2) = **91%** ten opzicht van **95%**.\n",
    "- Adjusted R2: **91%** ten opzichte van **94%**.\n",
    "- Out-of-Back error: **96%** ten opzichte van **95%**.\n",
    "\n",
    "Hieruit kan geconcludeerd worden dat een sterkere relatie aanwezig is tussen de dagen en het aantal IC-opnames dan de leeftijdgroep en het aantal IC-opnames, al is het verschil minimaal."
   ]
  }
 ],
 "metadata": {
  "interpreter": {
   "hash": "b29a468ec26ed410f8eb043fa906a7ef0e029b6ee0953ee4e4eae637e8e1fddd"
  },
  "kernelspec": {
   "display_name": "Python 3.9.4 64-bit",
   "language": "python",
   "name": "python3"
  },
  "language_info": {
   "codemirror_mode": {
    "name": "ipython",
    "version": 3
   },
   "file_extension": ".py",
   "mimetype": "text/x-python",
   "name": "python",
   "nbconvert_exporter": "python",
   "pygments_lexer": "ipython3",
   "version": "3.9.4"
  }
 },
 "nbformat": 4,
 "nbformat_minor": 5
}
