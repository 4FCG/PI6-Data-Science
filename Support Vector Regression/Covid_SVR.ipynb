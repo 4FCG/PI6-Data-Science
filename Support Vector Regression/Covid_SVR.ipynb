{
 "cells": [
  {
   "cell_type": "code",
   "execution_count": 1,
   "metadata": {
    "scrolled": true
   },
   "outputs": [],
   "source": [
    "import pandas as pd\n",
    "import numpy as np\n",
    "import matplotlib.pyplot as plt\n",
    "import seaborn as sns\n",
    "from sklearn.preprocessing import StandardScaler\n",
    "from sklearn.model_selection import train_test_split\n",
    "from sklearn.svm import SVR\n",
    "\n",
    "from sklearn import metrics\n",
    "from plotly import graph_objs as go\n",
    "import plotly.express as px\n",
    "\n",
    "from sklearn.model_selection import cross_val_score\n",
    "from sklearn.metrics import r2_score, mean_squared_error, mean_absolute_error\n",
    "from sklearn.model_selection import GridSearchCV\n"
   ]
  },
  {
   "cell_type": "markdown",
   "metadata": {},
   "source": [
    "<div class=\"alert alert-info\" markdown=\"1\">\n",
    "    <h1>Data per leeftijd</h1>\n",
    "    <p></p>\n",
    "</div>"
   ]
  },
  {
   "cell_type": "code",
   "execution_count": 2,
   "metadata": {},
   "outputs": [
    {
     "data": {
      "text/html": [
       "<div>\n",
       "<style scoped>\n",
       "    .dataframe tbody tr th:only-of-type {\n",
       "        vertical-align: middle;\n",
       "    }\n",
       "\n",
       "    .dataframe tbody tr th {\n",
       "        vertical-align: top;\n",
       "    }\n",
       "\n",
       "    .dataframe thead th {\n",
       "        text-align: right;\n",
       "    }\n",
       "</style>\n",
       "<table border=\"1\" class=\"dataframe\">\n",
       "  <thead>\n",
       "    <tr style=\"text-align: right;\">\n",
       "      <th></th>\n",
       "      <th>Age_group</th>\n",
       "      <th>Hospital_admission</th>\n",
       "      <th>IC_admission</th>\n",
       "      <th>Infection</th>\n",
       "    </tr>\n",
       "  </thead>\n",
       "  <tbody>\n",
       "    <tr>\n",
       "      <th>0</th>\n",
       "      <td>0-19</td>\n",
       "      <td>16.0</td>\n",
       "      <td>1.0</td>\n",
       "      <td>71</td>\n",
       "    </tr>\n",
       "    <tr>\n",
       "      <th>1</th>\n",
       "      <td>20-29</td>\n",
       "      <td>28.0</td>\n",
       "      <td>6.0</td>\n",
       "      <td>504</td>\n",
       "    </tr>\n",
       "    <tr>\n",
       "      <th>2</th>\n",
       "      <td>30-39</td>\n",
       "      <td>90.0</td>\n",
       "      <td>10.0</td>\n",
       "      <td>551</td>\n",
       "    </tr>\n",
       "    <tr>\n",
       "      <th>3</th>\n",
       "      <td>40-49</td>\n",
       "      <td>190.0</td>\n",
       "      <td>44.0</td>\n",
       "      <td>718</td>\n",
       "    </tr>\n",
       "    <tr>\n",
       "      <th>4</th>\n",
       "      <td>50-59</td>\n",
       "      <td>547.0</td>\n",
       "      <td>147.0</td>\n",
       "      <td>1176</td>\n",
       "    </tr>\n",
       "  </tbody>\n",
       "</table>\n",
       "</div>"
      ],
      "text/plain": [
       "  Age_group  Hospital_admission  IC_admission  Infection\n",
       "0      0-19                16.0           1.0         71\n",
       "1     20-29                28.0           6.0        504\n",
       "2     30-39                90.0          10.0        551\n",
       "3     40-49               190.0          44.0        718\n",
       "4     50-59               547.0         147.0       1176"
      ]
     },
     "execution_count": 2,
     "metadata": {},
     "output_type": "execute_result"
    }
   ],
   "source": [
    "dataPA = pd.read_csv('data_per_leeftijd.csv')\n",
    "#Kolommen die niet gebruikt worden verwijderen:\n",
    "dataPA.drop(['Date_adj',\n",
    "            ], axis=1, inplace=True)\n",
    "\n",
    "#dataPD = dataPD.rename({'Aanwezig op IC verdacht of bewezen Corona' : 'IC_Opnames'}, axis=1)\n",
    "dataPA.head()"
   ]
  },
  {
   "cell_type": "code",
   "execution_count": 3,
   "metadata": {
    "scrolled": true
   },
   "outputs": [
    {
     "data": {
      "text/html": [
       "<div>\n",
       "<style scoped>\n",
       "    .dataframe tbody tr th:only-of-type {\n",
       "        vertical-align: middle;\n",
       "    }\n",
       "\n",
       "    .dataframe tbody tr th {\n",
       "        vertical-align: top;\n",
       "    }\n",
       "\n",
       "    .dataframe thead th {\n",
       "        text-align: right;\n",
       "    }\n",
       "</style>\n",
       "<table border=\"1\" class=\"dataframe\">\n",
       "  <thead>\n",
       "    <tr style=\"text-align: right;\">\n",
       "      <th></th>\n",
       "      <th>Hospital_admission</th>\n",
       "      <th>Infection</th>\n",
       "      <th>0-19</th>\n",
       "      <th>20-29</th>\n",
       "      <th>30-39</th>\n",
       "      <th>40-49</th>\n",
       "      <th>50-59</th>\n",
       "      <th>60-69</th>\n",
       "      <th>70-79</th>\n",
       "      <th>80-89</th>\n",
       "      <th>90+</th>\n",
       "      <th>IC_admission</th>\n",
       "    </tr>\n",
       "  </thead>\n",
       "  <tbody>\n",
       "    <tr>\n",
       "      <th>0</th>\n",
       "      <td>16.0</td>\n",
       "      <td>71</td>\n",
       "      <td>1</td>\n",
       "      <td>0</td>\n",
       "      <td>0</td>\n",
       "      <td>0</td>\n",
       "      <td>0</td>\n",
       "      <td>0</td>\n",
       "      <td>0</td>\n",
       "      <td>0</td>\n",
       "      <td>0</td>\n",
       "      <td>1.0</td>\n",
       "    </tr>\n",
       "    <tr>\n",
       "      <th>1</th>\n",
       "      <td>28.0</td>\n",
       "      <td>504</td>\n",
       "      <td>0</td>\n",
       "      <td>1</td>\n",
       "      <td>0</td>\n",
       "      <td>0</td>\n",
       "      <td>0</td>\n",
       "      <td>0</td>\n",
       "      <td>0</td>\n",
       "      <td>0</td>\n",
       "      <td>0</td>\n",
       "      <td>6.0</td>\n",
       "    </tr>\n",
       "    <tr>\n",
       "      <th>2</th>\n",
       "      <td>90.0</td>\n",
       "      <td>551</td>\n",
       "      <td>0</td>\n",
       "      <td>0</td>\n",
       "      <td>1</td>\n",
       "      <td>0</td>\n",
       "      <td>0</td>\n",
       "      <td>0</td>\n",
       "      <td>0</td>\n",
       "      <td>0</td>\n",
       "      <td>0</td>\n",
       "      <td>10.0</td>\n",
       "    </tr>\n",
       "    <tr>\n",
       "      <th>3</th>\n",
       "      <td>190.0</td>\n",
       "      <td>718</td>\n",
       "      <td>0</td>\n",
       "      <td>0</td>\n",
       "      <td>0</td>\n",
       "      <td>1</td>\n",
       "      <td>0</td>\n",
       "      <td>0</td>\n",
       "      <td>0</td>\n",
       "      <td>0</td>\n",
       "      <td>0</td>\n",
       "      <td>44.0</td>\n",
       "    </tr>\n",
       "    <tr>\n",
       "      <th>4</th>\n",
       "      <td>547.0</td>\n",
       "      <td>1176</td>\n",
       "      <td>0</td>\n",
       "      <td>0</td>\n",
       "      <td>0</td>\n",
       "      <td>0</td>\n",
       "      <td>1</td>\n",
       "      <td>0</td>\n",
       "      <td>0</td>\n",
       "      <td>0</td>\n",
       "      <td>0</td>\n",
       "      <td>147.0</td>\n",
       "    </tr>\n",
       "  </tbody>\n",
       "</table>\n",
       "</div>"
      ],
      "text/plain": [
       "   Hospital_admission  Infection  0-19  20-29  30-39  40-49  50-59  60-69  \\\n",
       "0                16.0         71     1      0      0      0      0      0   \n",
       "1                28.0        504     0      1      0      0      0      0   \n",
       "2                90.0        551     0      0      1      0      0      0   \n",
       "3               190.0        718     0      0      0      1      0      0   \n",
       "4               547.0       1176     0      0      0      0      1      0   \n",
       "\n",
       "   70-79  80-89  90+  IC_admission  \n",
       "0      0      0    0           1.0  \n",
       "1      0      0    0           6.0  \n",
       "2      0      0    0          10.0  \n",
       "3      0      0    0          44.0  \n",
       "4      0      0    0         147.0  "
      ]
     },
     "execution_count": 3,
     "metadata": {},
     "output_type": "execute_result"
    }
   ],
   "source": [
    "#Categorische variabelen omzetten naar binary variabelen\n",
    "ageGroup = pd.get_dummies(dataPA[\"Age_group\"])\n",
    "\n",
    "#Bewerkte kolommen toevoegen aan dataframe\n",
    "dataPA = pd.concat([dataPA,ageGroup], axis=1)\n",
    "\n",
    "#kolom met categorische data verwijderen\n",
    "dataPA.drop(['Age_group'], axis=1, inplace=True)\n",
    "\n",
    "# IC_Admission verplaatsen naar laatste kolom\n",
    "IC = dataPA.pop('IC_admission') \n",
    "dataPA['IC_admission']=IC\n",
    "dataPA.head()"
   ]
  },
  {
   "cell_type": "markdown",
   "metadata": {},
   "source": [
    "<h4>Onafhankelijke variabelen</h4>"
   ]
  },
  {
   "cell_type": "code",
   "execution_count": 4,
   "metadata": {},
   "outputs": [
    {
     "name": "stdout",
     "output_type": "stream",
     "text": [
      "\n",
      "Independend variabelen\n"
     ]
    },
    {
     "data": {
      "text/html": [
       "<div>\n",
       "<style scoped>\n",
       "    .dataframe tbody tr th:only-of-type {\n",
       "        vertical-align: middle;\n",
       "    }\n",
       "\n",
       "    .dataframe tbody tr th {\n",
       "        vertical-align: top;\n",
       "    }\n",
       "\n",
       "    .dataframe thead th {\n",
       "        text-align: right;\n",
       "    }\n",
       "</style>\n",
       "<table border=\"1\" class=\"dataframe\">\n",
       "  <thead>\n",
       "    <tr style=\"text-align: right;\">\n",
       "      <th></th>\n",
       "      <th>Hospital_admission</th>\n",
       "      <th>Infection</th>\n",
       "      <th>0-19</th>\n",
       "      <th>20-29</th>\n",
       "      <th>30-39</th>\n",
       "      <th>40-49</th>\n",
       "      <th>50-59</th>\n",
       "      <th>60-69</th>\n",
       "      <th>70-79</th>\n",
       "      <th>80-89</th>\n",
       "      <th>90+</th>\n",
       "    </tr>\n",
       "  </thead>\n",
       "  <tbody>\n",
       "    <tr>\n",
       "      <th>0</th>\n",
       "      <td>16.0</td>\n",
       "      <td>71</td>\n",
       "      <td>1</td>\n",
       "      <td>0</td>\n",
       "      <td>0</td>\n",
       "      <td>0</td>\n",
       "      <td>0</td>\n",
       "      <td>0</td>\n",
       "      <td>0</td>\n",
       "      <td>0</td>\n",
       "      <td>0</td>\n",
       "    </tr>\n",
       "    <tr>\n",
       "      <th>1</th>\n",
       "      <td>28.0</td>\n",
       "      <td>504</td>\n",
       "      <td>0</td>\n",
       "      <td>1</td>\n",
       "      <td>0</td>\n",
       "      <td>0</td>\n",
       "      <td>0</td>\n",
       "      <td>0</td>\n",
       "      <td>0</td>\n",
       "      <td>0</td>\n",
       "      <td>0</td>\n",
       "    </tr>\n",
       "    <tr>\n",
       "      <th>2</th>\n",
       "      <td>90.0</td>\n",
       "      <td>551</td>\n",
       "      <td>0</td>\n",
       "      <td>0</td>\n",
       "      <td>1</td>\n",
       "      <td>0</td>\n",
       "      <td>0</td>\n",
       "      <td>0</td>\n",
       "      <td>0</td>\n",
       "      <td>0</td>\n",
       "      <td>0</td>\n",
       "    </tr>\n",
       "    <tr>\n",
       "      <th>3</th>\n",
       "      <td>190.0</td>\n",
       "      <td>718</td>\n",
       "      <td>0</td>\n",
       "      <td>0</td>\n",
       "      <td>0</td>\n",
       "      <td>1</td>\n",
       "      <td>0</td>\n",
       "      <td>0</td>\n",
       "      <td>0</td>\n",
       "      <td>0</td>\n",
       "      <td>0</td>\n",
       "    </tr>\n",
       "    <tr>\n",
       "      <th>4</th>\n",
       "      <td>547.0</td>\n",
       "      <td>1176</td>\n",
       "      <td>0</td>\n",
       "      <td>0</td>\n",
       "      <td>0</td>\n",
       "      <td>0</td>\n",
       "      <td>1</td>\n",
       "      <td>0</td>\n",
       "      <td>0</td>\n",
       "      <td>0</td>\n",
       "      <td>0</td>\n",
       "    </tr>\n",
       "    <tr>\n",
       "      <th>...</th>\n",
       "      <td>...</td>\n",
       "      <td>...</td>\n",
       "      <td>...</td>\n",
       "      <td>...</td>\n",
       "      <td>...</td>\n",
       "      <td>...</td>\n",
       "      <td>...</td>\n",
       "      <td>...</td>\n",
       "      <td>...</td>\n",
       "      <td>...</td>\n",
       "      <td>...</td>\n",
       "    </tr>\n",
       "    <tr>\n",
       "      <th>760</th>\n",
       "      <td>131.0</td>\n",
       "      <td>1451</td>\n",
       "      <td>0</td>\n",
       "      <td>0</td>\n",
       "      <td>0</td>\n",
       "      <td>0</td>\n",
       "      <td>1</td>\n",
       "      <td>0</td>\n",
       "      <td>0</td>\n",
       "      <td>0</td>\n",
       "      <td>0</td>\n",
       "    </tr>\n",
       "    <tr>\n",
       "      <th>761</th>\n",
       "      <td>251.0</td>\n",
       "      <td>1132</td>\n",
       "      <td>0</td>\n",
       "      <td>0</td>\n",
       "      <td>0</td>\n",
       "      <td>0</td>\n",
       "      <td>0</td>\n",
       "      <td>1</td>\n",
       "      <td>0</td>\n",
       "      <td>0</td>\n",
       "      <td>0</td>\n",
       "    </tr>\n",
       "    <tr>\n",
       "      <th>762</th>\n",
       "      <td>330.0</td>\n",
       "      <td>816</td>\n",
       "      <td>0</td>\n",
       "      <td>0</td>\n",
       "      <td>0</td>\n",
       "      <td>0</td>\n",
       "      <td>0</td>\n",
       "      <td>0</td>\n",
       "      <td>1</td>\n",
       "      <td>0</td>\n",
       "      <td>0</td>\n",
       "    </tr>\n",
       "    <tr>\n",
       "      <th>763</th>\n",
       "      <td>306.0</td>\n",
       "      <td>405</td>\n",
       "      <td>0</td>\n",
       "      <td>0</td>\n",
       "      <td>0</td>\n",
       "      <td>0</td>\n",
       "      <td>0</td>\n",
       "      <td>0</td>\n",
       "      <td>0</td>\n",
       "      <td>1</td>\n",
       "      <td>0</td>\n",
       "    </tr>\n",
       "    <tr>\n",
       "      <th>764</th>\n",
       "      <td>62.0</td>\n",
       "      <td>100</td>\n",
       "      <td>0</td>\n",
       "      <td>0</td>\n",
       "      <td>0</td>\n",
       "      <td>0</td>\n",
       "      <td>0</td>\n",
       "      <td>0</td>\n",
       "      <td>0</td>\n",
       "      <td>0</td>\n",
       "      <td>1</td>\n",
       "    </tr>\n",
       "  </tbody>\n",
       "</table>\n",
       "<p>765 rows × 11 columns</p>\n",
       "</div>"
      ],
      "text/plain": [
       "     Hospital_admission  Infection  0-19  20-29  30-39  40-49  50-59  60-69  \\\n",
       "0                  16.0         71     1      0      0      0      0      0   \n",
       "1                  28.0        504     0      1      0      0      0      0   \n",
       "2                  90.0        551     0      0      1      0      0      0   \n",
       "3                 190.0        718     0      0      0      1      0      0   \n",
       "4                 547.0       1176     0      0      0      0      1      0   \n",
       "..                  ...        ...   ...    ...    ...    ...    ...    ...   \n",
       "760               131.0       1451     0      0      0      0      1      0   \n",
       "761               251.0       1132     0      0      0      0      0      1   \n",
       "762               330.0        816     0      0      0      0      0      0   \n",
       "763               306.0        405     0      0      0      0      0      0   \n",
       "764                62.0        100     0      0      0      0      0      0   \n",
       "\n",
       "     70-79  80-89  90+  \n",
       "0        0      0    0  \n",
       "1        0      0    0  \n",
       "2        0      0    0  \n",
       "3        0      0    0  \n",
       "4        0      0    0  \n",
       "..     ...    ...  ...  \n",
       "760      0      0    0  \n",
       "761      0      0    0  \n",
       "762      1      0    0  \n",
       "763      0      1    0  \n",
       "764      0      0    1  \n",
       "\n",
       "[765 rows x 11 columns]"
      ]
     },
     "execution_count": 4,
     "metadata": {},
     "output_type": "execute_result"
    }
   ],
   "source": [
    "# alle x variabelen selecteren\n",
    "X_PA = dataPA.iloc[:,0:11].values.astype(float)\n",
    "\n",
    "print(\"\\nIndependend variabelen\")\n",
    "dataPA.iloc[:,0:11]\n"
   ]
  },
  {
   "cell_type": "markdown",
   "metadata": {},
   "source": [
    "<h4>Afhankelijke variabele</h4>"
   ]
  },
  {
   "cell_type": "code",
   "execution_count": 5,
   "metadata": {},
   "outputs": [
    {
     "name": "stdout",
     "output_type": "stream",
     "text": [
      "\n",
      "Dependent variabel\n"
     ]
    },
    {
     "data": {
      "text/html": [
       "<div>\n",
       "<style scoped>\n",
       "    .dataframe tbody tr th:only-of-type {\n",
       "        vertical-align: middle;\n",
       "    }\n",
       "\n",
       "    .dataframe tbody tr th {\n",
       "        vertical-align: top;\n",
       "    }\n",
       "\n",
       "    .dataframe thead th {\n",
       "        text-align: right;\n",
       "    }\n",
       "</style>\n",
       "<table border=\"1\" class=\"dataframe\">\n",
       "  <thead>\n",
       "    <tr style=\"text-align: right;\">\n",
       "      <th></th>\n",
       "      <th>IC_admission</th>\n",
       "    </tr>\n",
       "  </thead>\n",
       "  <tbody>\n",
       "    <tr>\n",
       "      <th>0</th>\n",
       "      <td>1.0</td>\n",
       "    </tr>\n",
       "    <tr>\n",
       "      <th>1</th>\n",
       "      <td>6.0</td>\n",
       "    </tr>\n",
       "    <tr>\n",
       "      <th>2</th>\n",
       "      <td>10.0</td>\n",
       "    </tr>\n",
       "    <tr>\n",
       "      <th>3</th>\n",
       "      <td>44.0</td>\n",
       "    </tr>\n",
       "    <tr>\n",
       "      <th>4</th>\n",
       "      <td>147.0</td>\n",
       "    </tr>\n",
       "    <tr>\n",
       "      <th>...</th>\n",
       "      <td>...</td>\n",
       "    </tr>\n",
       "    <tr>\n",
       "      <th>760</th>\n",
       "      <td>42.0</td>\n",
       "    </tr>\n",
       "    <tr>\n",
       "      <th>761</th>\n",
       "      <td>69.0</td>\n",
       "    </tr>\n",
       "    <tr>\n",
       "      <th>762</th>\n",
       "      <td>55.0</td>\n",
       "    </tr>\n",
       "    <tr>\n",
       "      <th>763</th>\n",
       "      <td>3.0</td>\n",
       "    </tr>\n",
       "    <tr>\n",
       "      <th>764</th>\n",
       "      <td>0.0</td>\n",
       "    </tr>\n",
       "  </tbody>\n",
       "</table>\n",
       "<p>765 rows × 1 columns</p>\n",
       "</div>"
      ],
      "text/plain": [
       "     IC_admission\n",
       "0             1.0\n",
       "1             6.0\n",
       "2            10.0\n",
       "3            44.0\n",
       "4           147.0\n",
       "..            ...\n",
       "760          42.0\n",
       "761          69.0\n",
       "762          55.0\n",
       "763           3.0\n",
       "764           0.0\n",
       "\n",
       "[765 rows x 1 columns]"
      ]
     },
     "execution_count": 5,
     "metadata": {},
     "output_type": "execute_result"
    }
   ],
   "source": [
    "# y variabele : IC_admission\n",
    "y_PA = dataPA.iloc[:,11:12].values.astype(float)\n",
    "\n",
    "print(\"\\nDependent variabel\")\n",
    "dataPA.iloc[:,11:12]\n"
   ]
  },
  {
   "cell_type": "markdown",
   "metadata": {},
   "source": [
    "<h3>Training</h3>\n",
    "<p>Data per leeftijd | Model 1 </p>"
   ]
  },
  {
   "cell_type": "code",
   "execution_count": 6,
   "metadata": {},
   "outputs": [],
   "source": [
    "X_train_PA, X_test_PA, y_train_PA, y_test_PA = train_test_split(X_PA, y_PA, test_size=0.25, random_state=51)\n",
    "\n",
    "#training en testset scaling \n",
    "sc_X_train_PA = StandardScaler()\n",
    "sc_y_train_PA = StandardScaler()\n",
    "sc_X_test_PA = StandardScaler()\n",
    "sc_y_test_PA = StandardScaler()\n",
    "\n",
    "\n",
    "X_train_PA = sc_X_train_PA.fit_transform(X_train_PA)\n",
    "y_train_PA = sc_y_train_PA.fit_transform(y_train_PA)\n",
    "X_test_PA = sc_X_test_PA.fit_transform(X_test_PA)\n",
    "y_test_PA = sc_y_test_PA.fit_transform(y_test_PA)"
   ]
  },
  {
   "cell_type": "code",
   "execution_count": 7,
   "metadata": {},
   "outputs": [
    {
     "name": "stdout",
     "output_type": "stream",
     "text": [
      "R2 Score: 0.8361037627007215\n"
     ]
    }
   ],
   "source": [
    "#model 1 data per leeftijd trainen\n",
    "model1_PA = SVR(kernel = 'rbf')\n",
    "#model = SVR(kernel = 'rbf')\n",
    "model1_PA.fit(X_train_PA,y_train_PA.ravel())\n",
    "\n",
    "#- R2 is berekend als default score\n",
    "print(\"R2 Score:\",model1_PA.score(X_test_PA, y_test_PA))\n",
    "\n",
    "#model1_PA.score(X_train, y_train)\n"
   ]
  },
  {
   "cell_type": "markdown",
   "metadata": {},
   "source": [
    "<h2>Optimize parameters with Cross Validation </h2>\n",
    "<p>Data per leeftijd | Model 2 </p>\n",
    "<br/>"
   ]
  },
  {
   "cell_type": "code",
   "execution_count": 8,
   "metadata": {},
   "outputs": [
    {
     "name": "stdout",
     "output_type": "stream",
     "text": [
      "{'C': 100, 'gamma': 0.01, 'kernel': 'rbf'}\n"
     ]
    }
   ],
   "source": [
    "param_grid = [\n",
    "{   'C': [0.5, 1, 10, 100],\n",
    "    'gamma': ['scale', 1, 0.1, 0.01, 0.001, 0.0001],\n",
    "    'kernel': ['rbf']},\n",
    "]\n",
    "\n",
    "optimal_params = GridSearchCV(\n",
    "    SVR(),\n",
    "    param_grid,\n",
    "    cv=5,\n",
    "    scoring='r2',\n",
    "    verbose=0\n",
    ")\n",
    "\n",
    "optimal_params.fit(X_train_PA, y_train_PA.ravel())\n",
    "print(optimal_params.best_params_)"
   ]
  },
  {
   "cell_type": "markdown",
   "metadata": {},
   "source": [
    "<h3>Training </h3>\n",
    "<p>Data per leeftijd | Model 2 </p>"
   ]
  },
  {
   "cell_type": "code",
   "execution_count": 9,
   "metadata": {},
   "outputs": [
    {
     "data": {
      "text/plain": [
       "0.9594865169888798"
      ]
     },
     "execution_count": 9,
     "metadata": {},
     "output_type": "execute_result"
    }
   ],
   "source": [
    "#train model met gevonden paramaters\n",
    "model2_PA = SVR(**optimal_params.best_params_)\n",
    "\n",
    "model2_PA.fit(X_train_PA,y_train_PA.ravel())\n",
    "\n",
    "model2_PA.score(X_test_PA, y_test_PA)"
   ]
  },
  {
   "cell_type": "markdown",
   "metadata": {},
   "source": [
    "<h3>Predictions </h3>\n",
    "<p>Data per leeftijd | Model 2 </p>"
   ]
  },
  {
   "cell_type": "code",
   "execution_count": 10,
   "metadata": {},
   "outputs": [],
   "source": [
    "y_pred_PA_model2 = model2_PA.predict(X_test_PA)\n"
   ]
  },
  {
   "cell_type": "code",
   "execution_count": 11,
   "metadata": {},
   "outputs": [],
   "source": [
    "inv_y_pred_PA_Model2 = sc_y_train_PA.inverse_transform(y_pred_PA_model2.reshape(-1, 1) )\n",
    "inv_y_test_PA = sc_y_test_PA.inverse_transform(y_test_PA)"
   ]
  },
  {
   "cell_type": "code",
   "execution_count": 12,
   "metadata": {},
   "outputs": [
    {
     "name": "stdout",
     "output_type": "stream",
     "text": [
      "Mean squared error:  50.91197495290901\n",
      "Root-mean-square deviation:   7.135262780928885\n",
      "R2:   0.9560938963330041\n"
     ]
    }
   ],
   "source": [
    "mse = mean_squared_error(inv_y_test_PA, inv_y_pred_PA_Model2)\n",
    "rmse = np.sqrt(mse)\n",
    "r2 = r2_score(inv_y_test_PA, inv_y_pred_PA_Model2)\n",
    "\n",
    "print(\"Mean squared error: \", mse)\n",
    "print(\"Root-mean-square deviation:  \", rmse)\n",
    "print(\"R2:  \", r2)\n",
    "\n"
   ]
  },
  {
   "cell_type": "code",
   "execution_count": 13,
   "metadata": {},
   "outputs": [
    {
     "data": {
      "text/plain": [
       "Text(0.5, 1.0, 'Echte vs voorspelde waarde  | Model 1')"
      ]
     },
     "execution_count": 13,
     "metadata": {},
     "output_type": "execute_result"
    },
    {
     "data": {
      "image/png": "[encoded data removed]",
      "text/plain": [
       "<Figure size 1080x720 with 1 Axes>"
      ]
     },
     "metadata": {
      "needs_background": "light"
     },
     "output_type": "display_data"
    }
   ],
   "source": [
    "plt.figure(figsize=(15,10))\n",
    "plt.scatter(y_test_PA,inv_y_pred_PA_Model2)\n",
    "plt.xlabel(\"Actual\")\n",
    "plt.ylabel(\"Predicted\")\n",
    "plt.title(\"Echte vs voorspelde waarde  | Model 1\")"
   ]
  },
  {
   "cell_type": "markdown",
   "metadata": {},
   "source": [
    "<div class=\"alert alert-info\" markdown=\"1\">\n",
    "    <h1>Data per dag</h1>\n",
    "    <p></p>\n",
    "</div>"
   ]
  },
  {
   "cell_type": "code",
   "execution_count": 14,
   "metadata": {},
   "outputs": [
    {
     "data": {
      "text/html": [
       "<div>\n",
       "<style scoped>\n",
       "    .dataframe tbody tr th:only-of-type {\n",
       "        vertical-align: middle;\n",
       "    }\n",
       "\n",
       "    .dataframe tbody tr th {\n",
       "        vertical-align: top;\n",
       "    }\n",
       "\n",
       "    .dataframe thead th {\n",
       "        text-align: right;\n",
       "    }\n",
       "</style>\n",
       "<table border=\"1\" class=\"dataframe\">\n",
       "  <thead>\n",
       "    <tr style=\"text-align: right;\">\n",
       "      <th></th>\n",
       "      <th>Aanwezig op IC verdacht of bewezen Corona</th>\n",
       "      <th>Aanwezig op verpleegafdeling verdacht of bewezen Corona</th>\n",
       "      <th>Opname IC Corona</th>\n",
       "      <th>Opname IC verdacht</th>\n",
       "      <th>Opname IC totaal</th>\n",
       "      <th>Opname verpleegafdeling Corona</th>\n",
       "      <th>Opname verpleegafdeling verdacht</th>\n",
       "      <th>Opname verpleegafdeling totaal</th>\n",
       "      <th>Date_adj</th>\n",
       "      <th>Infection</th>\n",
       "    </tr>\n",
       "  </thead>\n",
       "  <tbody>\n",
       "    <tr>\n",
       "      <th>0</th>\n",
       "      <td>246</td>\n",
       "      <td>1310</td>\n",
       "      <td>24</td>\n",
       "      <td>0</td>\n",
       "      <td>24</td>\n",
       "      <td>200</td>\n",
       "      <td>4</td>\n",
       "      <td>204</td>\n",
       "      <td>2021-11-01</td>\n",
       "      <td>10966</td>\n",
       "    </tr>\n",
       "    <tr>\n",
       "      <th>1</th>\n",
       "      <td>231</td>\n",
       "      <td>1175</td>\n",
       "      <td>23</td>\n",
       "      <td>0</td>\n",
       "      <td>23</td>\n",
       "      <td>130</td>\n",
       "      <td>3</td>\n",
       "      <td>133</td>\n",
       "      <td>2021-10-31</td>\n",
       "      <td>8817</td>\n",
       "    </tr>\n",
       "    <tr>\n",
       "      <th>2</th>\n",
       "      <td>222</td>\n",
       "      <td>1119</td>\n",
       "      <td>13</td>\n",
       "      <td>0</td>\n",
       "      <td>13</td>\n",
       "      <td>139</td>\n",
       "      <td>2</td>\n",
       "      <td>141</td>\n",
       "      <td>2021-10-30</td>\n",
       "      <td>8487</td>\n",
       "    </tr>\n",
       "    <tr>\n",
       "      <th>3</th>\n",
       "      <td>234</td>\n",
       "      <td>1101</td>\n",
       "      <td>27</td>\n",
       "      <td>0</td>\n",
       "      <td>27</td>\n",
       "      <td>157</td>\n",
       "      <td>2</td>\n",
       "      <td>159</td>\n",
       "      <td>2021-10-29</td>\n",
       "      <td>8424</td>\n",
       "    </tr>\n",
       "    <tr>\n",
       "      <th>4</th>\n",
       "      <td>220</td>\n",
       "      <td>1026</td>\n",
       "      <td>23</td>\n",
       "      <td>0</td>\n",
       "      <td>23</td>\n",
       "      <td>136</td>\n",
       "      <td>6</td>\n",
       "      <td>142</td>\n",
       "      <td>2021-10-28</td>\n",
       "      <td>7930</td>\n",
       "    </tr>\n",
       "  </tbody>\n",
       "</table>\n",
       "</div>"
      ],
      "text/plain": [
       "   Aanwezig op IC verdacht of bewezen Corona  \\\n",
       "0                                        246   \n",
       "1                                        231   \n",
       "2                                        222   \n",
       "3                                        234   \n",
       "4                                        220   \n",
       "\n",
       "   Aanwezig op verpleegafdeling verdacht of bewezen Corona  Opname IC Corona  \\\n",
       "0                                               1310                      24   \n",
       "1                                               1175                      23   \n",
       "2                                               1119                      13   \n",
       "3                                               1101                      27   \n",
       "4                                               1026                      23   \n",
       "\n",
       "   Opname IC verdacht  Opname IC totaal  Opname verpleegafdeling Corona  \\\n",
       "0                   0                24                             200   \n",
       "1                   0                23                             130   \n",
       "2                   0                13                             139   \n",
       "3                   0                27                             157   \n",
       "4                   0                23                             136   \n",
       "\n",
       "   Opname verpleegafdeling verdacht  Opname verpleegafdeling totaal  \\\n",
       "0                                 4                             204   \n",
       "1                                 3                             133   \n",
       "2                                 2                             141   \n",
       "3                                 2                             159   \n",
       "4                                 6                             142   \n",
       "\n",
       "     Date_adj  Infection  \n",
       "0  2021-11-01      10966  \n",
       "1  2021-10-31       8817  \n",
       "2  2021-10-30       8487  \n",
       "3  2021-10-29       8424  \n",
       "4  2021-10-28       7930  "
      ]
     },
     "execution_count": 14,
     "metadata": {},
     "output_type": "execute_result"
    }
   ],
   "source": [
    "dataPD = pd.read_csv('data_per_dag.csv')\n",
    "\n",
    "dataPD.head()"
   ]
  },
  {
   "cell_type": "code",
   "execution_count": 15,
   "metadata": {},
   "outputs": [
    {
     "data": {
      "text/html": [
       "<div>\n",
       "<style scoped>\n",
       "    .dataframe tbody tr th:only-of-type {\n",
       "        vertical-align: middle;\n",
       "    }\n",
       "\n",
       "    .dataframe tbody tr th {\n",
       "        vertical-align: top;\n",
       "    }\n",
       "\n",
       "    .dataframe thead th {\n",
       "        text-align: right;\n",
       "    }\n",
       "</style>\n",
       "<table border=\"1\" class=\"dataframe\">\n",
       "  <thead>\n",
       "    <tr style=\"text-align: right;\">\n",
       "      <th></th>\n",
       "      <th>IC_Opnames</th>\n",
       "      <th>Opname verpleegafdeling totaal</th>\n",
       "      <th>Infection</th>\n",
       "    </tr>\n",
       "  </thead>\n",
       "  <tbody>\n",
       "    <tr>\n",
       "      <th>0</th>\n",
       "      <td>246</td>\n",
       "      <td>204</td>\n",
       "      <td>10966</td>\n",
       "    </tr>\n",
       "    <tr>\n",
       "      <th>1</th>\n",
       "      <td>231</td>\n",
       "      <td>133</td>\n",
       "      <td>8817</td>\n",
       "    </tr>\n",
       "    <tr>\n",
       "      <th>2</th>\n",
       "      <td>222</td>\n",
       "      <td>141</td>\n",
       "      <td>8487</td>\n",
       "    </tr>\n",
       "    <tr>\n",
       "      <th>3</th>\n",
       "      <td>234</td>\n",
       "      <td>159</td>\n",
       "      <td>8424</td>\n",
       "    </tr>\n",
       "    <tr>\n",
       "      <th>4</th>\n",
       "      <td>220</td>\n",
       "      <td>142</td>\n",
       "      <td>7930</td>\n",
       "    </tr>\n",
       "  </tbody>\n",
       "</table>\n",
       "</div>"
      ],
      "text/plain": [
       "   IC_Opnames  Opname verpleegafdeling totaal  Infection\n",
       "0         246                             204      10966\n",
       "1         231                             133       8817\n",
       "2         222                             141       8487\n",
       "3         234                             159       8424\n",
       "4         220                             142       7930"
      ]
     },
     "execution_count": 15,
     "metadata": {},
     "output_type": "execute_result"
    }
   ],
   "source": [
    "#Kolommen die niet gebruikt worden verwijderen:\n",
    "dataPD.drop(['Opname IC verdacht',\n",
    "             'Opname IC Corona',\n",
    "             'Opname IC totaal',\n",
    "             'Opname verpleegafdeling Corona', \n",
    "             'Opname verpleegafdeling verdacht',\n",
    "             'Aanwezig op verpleegafdeling verdacht of bewezen Corona',\n",
    "             'Date_adj',\n",
    "            ], axis=1, inplace=True)\n",
    "\n",
    "dataPD = dataPD.rename({'Aanwezig op IC verdacht of bewezen Corona' : 'IC_Opnames'}, axis=1)\n",
    "dataPD.head()"
   ]
  },
  {
   "cell_type": "markdown",
   "metadata": {},
   "source": [
    "<h4>Onafhankelijke variabele</h4>"
   ]
  },
  {
   "cell_type": "code",
   "execution_count": 16,
   "metadata": {},
   "outputs": [
    {
     "name": "stdout",
     "output_type": "stream",
     "text": [
      "n\\Independend variabelen\n"
     ]
    },
    {
     "data": {
      "text/html": [
       "<div>\n",
       "<style scoped>\n",
       "    .dataframe tbody tr th:only-of-type {\n",
       "        vertical-align: middle;\n",
       "    }\n",
       "\n",
       "    .dataframe tbody tr th {\n",
       "        vertical-align: top;\n",
       "    }\n",
       "\n",
       "    .dataframe thead th {\n",
       "        text-align: right;\n",
       "    }\n",
       "</style>\n",
       "<table border=\"1\" class=\"dataframe\">\n",
       "  <thead>\n",
       "    <tr style=\"text-align: right;\">\n",
       "      <th></th>\n",
       "      <th>Opname verpleegafdeling totaal</th>\n",
       "      <th>Infection</th>\n",
       "    </tr>\n",
       "  </thead>\n",
       "  <tbody>\n",
       "    <tr>\n",
       "      <th>0</th>\n",
       "      <td>204</td>\n",
       "      <td>10966</td>\n",
       "    </tr>\n",
       "    <tr>\n",
       "      <th>1</th>\n",
       "      <td>133</td>\n",
       "      <td>8817</td>\n",
       "    </tr>\n",
       "    <tr>\n",
       "      <th>2</th>\n",
       "      <td>141</td>\n",
       "      <td>8487</td>\n",
       "    </tr>\n",
       "    <tr>\n",
       "      <th>3</th>\n",
       "      <td>159</td>\n",
       "      <td>8424</td>\n",
       "    </tr>\n",
       "    <tr>\n",
       "      <th>4</th>\n",
       "      <td>142</td>\n",
       "      <td>7930</td>\n",
       "    </tr>\n",
       "    <tr>\n",
       "      <th>...</th>\n",
       "      <td>...</td>\n",
       "      <td>...</td>\n",
       "    </tr>\n",
       "    <tr>\n",
       "      <th>590</th>\n",
       "      <td>217</td>\n",
       "      <td>874</td>\n",
       "    </tr>\n",
       "    <tr>\n",
       "      <th>591</th>\n",
       "      <td>266</td>\n",
       "      <td>1000</td>\n",
       "    </tr>\n",
       "    <tr>\n",
       "      <th>592</th>\n",
       "      <td>285</td>\n",
       "      <td>825</td>\n",
       "    </tr>\n",
       "    <tr>\n",
       "      <th>593</th>\n",
       "      <td>191</td>\n",
       "      <td>865</td>\n",
       "    </tr>\n",
       "    <tr>\n",
       "      <th>594</th>\n",
       "      <td>157</td>\n",
       "      <td>827</td>\n",
       "    </tr>\n",
       "  </tbody>\n",
       "</table>\n",
       "<p>595 rows × 2 columns</p>\n",
       "</div>"
      ],
      "text/plain": [
       "     Opname verpleegafdeling totaal  Infection\n",
       "0                               204      10966\n",
       "1                               133       8817\n",
       "2                               141       8487\n",
       "3                               159       8424\n",
       "4                               142       7930\n",
       "..                              ...        ...\n",
       "590                             217        874\n",
       "591                             266       1000\n",
       "592                             285        825\n",
       "593                             191        865\n",
       "594                             157        827\n",
       "\n",
       "[595 rows x 2 columns]"
      ]
     },
     "execution_count": 16,
     "metadata": {},
     "output_type": "execute_result"
    }
   ],
   "source": [
    "X_PD = dataPD.iloc[:,1:3].values.astype(float)\n",
    "print(\"n\\Independend variabelen\")\n",
    "dataPD.iloc[:,1:3]"
   ]
  },
  {
   "cell_type": "markdown",
   "metadata": {},
   "source": [
    "<h4>Afhankelijke variabele</h4>"
   ]
  },
  {
   "cell_type": "code",
   "execution_count": 17,
   "metadata": {},
   "outputs": [
    {
     "name": "stdout",
     "output_type": "stream",
     "text": [
      "n\\Dependend variabelen\n"
     ]
    },
    {
     "data": {
      "text/html": [
       "<div>\n",
       "<style scoped>\n",
       "    .dataframe tbody tr th:only-of-type {\n",
       "        vertical-align: middle;\n",
       "    }\n",
       "\n",
       "    .dataframe tbody tr th {\n",
       "        vertical-align: top;\n",
       "    }\n",
       "\n",
       "    .dataframe thead th {\n",
       "        text-align: right;\n",
       "    }\n",
       "</style>\n",
       "<table border=\"1\" class=\"dataframe\">\n",
       "  <thead>\n",
       "    <tr style=\"text-align: right;\">\n",
       "      <th></th>\n",
       "      <th>IC_Opnames</th>\n",
       "    </tr>\n",
       "  </thead>\n",
       "  <tbody>\n",
       "    <tr>\n",
       "      <th>0</th>\n",
       "      <td>246</td>\n",
       "    </tr>\n",
       "    <tr>\n",
       "      <th>1</th>\n",
       "      <td>231</td>\n",
       "    </tr>\n",
       "    <tr>\n",
       "      <th>2</th>\n",
       "      <td>222</td>\n",
       "    </tr>\n",
       "    <tr>\n",
       "      <th>3</th>\n",
       "      <td>234</td>\n",
       "    </tr>\n",
       "    <tr>\n",
       "      <th>4</th>\n",
       "      <td>220</td>\n",
       "    </tr>\n",
       "    <tr>\n",
       "      <th>...</th>\n",
       "      <td>...</td>\n",
       "    </tr>\n",
       "    <tr>\n",
       "      <th>590</th>\n",
       "      <td>437</td>\n",
       "    </tr>\n",
       "    <tr>\n",
       "      <th>591</th>\n",
       "      <td>367</td>\n",
       "    </tr>\n",
       "    <tr>\n",
       "      <th>592</th>\n",
       "      <td>296</td>\n",
       "    </tr>\n",
       "    <tr>\n",
       "      <th>593</th>\n",
       "      <td>236</td>\n",
       "    </tr>\n",
       "    <tr>\n",
       "      <th>594</th>\n",
       "      <td>185</td>\n",
       "    </tr>\n",
       "  </tbody>\n",
       "</table>\n",
       "<p>595 rows × 1 columns</p>\n",
       "</div>"
      ],
      "text/plain": [
       "     IC_Opnames\n",
       "0           246\n",
       "1           231\n",
       "2           222\n",
       "3           234\n",
       "4           220\n",
       "..          ...\n",
       "590         437\n",
       "591         367\n",
       "592         296\n",
       "593         236\n",
       "594         185\n",
       "\n",
       "[595 rows x 1 columns]"
      ]
     },
     "execution_count": 17,
     "metadata": {},
     "output_type": "execute_result"
    }
   ],
   "source": [
    "y_PD = dataPD.iloc[:,0:1].values.astype(float)\n",
    "print(\"n\\Dependend variabelen\")\n",
    "dataPD.iloc[:,0:1]"
   ]
  },
  {
   "cell_type": "markdown",
   "metadata": {},
   "source": [
    "<h3>Training</h3>\n",
    "<p>Data per dag | Model 1 </p>\n",
    "<br>"
   ]
  },
  {
   "cell_type": "code",
   "execution_count": 18,
   "metadata": {},
   "outputs": [],
   "source": [
    "X_train_PD, X_test_PD, y_train_PD, y_test_PD = train_test_split(X_PD, y_PD, test_size=0.25, random_state=51)\n",
    "\n",
    "#training en testset scaling \n",
    "sc_X_train_PD = StandardScaler()\n",
    "sc_y_train_PD = StandardScaler()\n",
    "sc_X_test_PD = StandardScaler()\n",
    "sc_y_test_PD = StandardScaler()\n",
    "\n",
    "\n",
    "X_train_PD = sc_X_train_PD.fit_transform(X_train_PD)\n",
    "y_train_PD = sc_y_train_PD.fit_transform(y_train_PD)\n",
    "X_test_PD = sc_X_test_PD.fit_transform(X_test_PD)\n",
    "y_test_PD = sc_y_test_PD.fit_transform(y_test_PD)"
   ]
  },
  {
   "cell_type": "code",
   "execution_count": 19,
   "metadata": {},
   "outputs": [
    {
     "name": "stdout",
     "output_type": "stream",
     "text": [
      "R2 Score op basis van test data:\n"
     ]
    },
    {
     "data": {
      "text/plain": [
       "0.7146722414273741"
      ]
     },
     "execution_count": 19,
     "metadata": {},
     "output_type": "execute_result"
    }
   ],
   "source": [
    "#model 1 data per dag trainen\n",
    "model1_PD = SVR(kernel = 'rbf')\n",
    "model1_PD.fit(X_train_PD,y_train_PD.ravel())\n",
    "\n",
    "print(\"R2 Score op basis van test data:\")\n",
    "#- R2 is berekend als default score\n",
    "model1_PD.score(X_test_PD, y_test_PD)"
   ]
  },
  {
   "cell_type": "markdown",
   "metadata": {},
   "source": [
    "<h2>Optimize parameters with Cross Validation </h2>\n",
    "<p>Data per dag | Model 2 </p>\n",
    "<br/>"
   ]
  },
  {
   "cell_type": "code",
   "execution_count": 20,
   "metadata": {},
   "outputs": [
    {
     "name": "stdout",
     "output_type": "stream",
     "text": [
      "{'C': 1, 'gamma': 1, 'kernel': 'rbf'}\n"
     ]
    }
   ],
   "source": [
    "param_grid = [\n",
    "{   'C': [0.5, 1, 10, 100],\n",
    "    'gamma': ['scale', 1, 0.1, 0.01, 0.001, 0.0001],\n",
    "    'kernel': ['rbf']},\n",
    "]\n",
    "\n",
    "optimal_params = GridSearchCV(\n",
    "    SVR(),\n",
    "    param_grid,\n",
    "    cv=5,\n",
    "    scoring='r2',\n",
    "    verbose=0\n",
    ")\n",
    "\n",
    "optimal_params.fit(X_train_PD, y_train_PD.ravel())\n",
    "print(optimal_params.best_params_)"
   ]
  },
  {
   "cell_type": "markdown",
   "metadata": {},
   "source": [
    "<h3>Training </h3>\n",
    "<p>Data per dag | Model 2 </p>"
   ]
  },
  {
   "cell_type": "code",
   "execution_count": 21,
   "metadata": {},
   "outputs": [
    {
     "data": {
      "text/plain": [
       "0.7200213756825371"
      ]
     },
     "execution_count": 21,
     "metadata": {},
     "output_type": "execute_result"
    }
   ],
   "source": [
    "model2_PD = SVR(**optimal_params.best_params_)\n",
    "\n",
    "model2_PD.fit(X_train_PD,y_train_PD.ravel())\n",
    "model2_PD.score(X_test_PD, y_test_PD)"
   ]
  },
  {
   "cell_type": "markdown",
   "metadata": {},
   "source": [
    "<h3>Predictions </h3>\n",
    "<p>Data per dag | Model 2 </p>"
   ]
  },
  {
   "cell_type": "code",
   "execution_count": 22,
   "metadata": {},
   "outputs": [],
   "source": [
    "y_pred_PD_model2 = model2_PD.predict(X_test_PD)"
   ]
  },
  {
   "cell_type": "code",
   "execution_count": 23,
   "metadata": {},
   "outputs": [],
   "source": [
    "inv_y_pred_PD_Model2 = sc_y_test_PD.inverse_transform(y_pred_PD_model2.reshape(-1, 1) )\n",
    "inv_y_test_PD = sc_y_test_PD.inverse_transform(y_test_PD)"
   ]
  },
  {
   "cell_type": "code",
   "execution_count": 24,
   "metadata": {},
   "outputs": [
    {
     "name": "stdout",
     "output_type": "stream",
     "text": [
      "Mean squared error:  20128.249894035544\n",
      "Root-mean-square deviation:   141.8740635001181\n",
      "R2:   0.7200213756825371\n"
     ]
    }
   ],
   "source": [
    "mse = mean_squared_error(inv_y_test_PD, inv_y_pred_PD_Model2)\n",
    "rmse = np.sqrt(mse)\n",
    "r2 = r2_score(inv_y_test_PD, inv_y_pred_PD_Model2)\n",
    "\n",
    "print(\"Mean squared error: \", mse)\n",
    "print(\"Root-mean-square deviation:  \", rmse)\n",
    "print(\"R2:  \", r2)"
   ]
  },
  {
   "cell_type": "code",
   "execution_count": 25,
   "metadata": {},
   "outputs": [
    {
     "data": {
      "text/plain": [
       "Text(0.5, 1.0, 'Echte vs voorspelde waarde  | Model 2')"
      ]
     },
     "execution_count": 25,
     "metadata": {},
     "output_type": "execute_result"
    },
    {
     "data": {
      "image/png": "[encoded data removed]",
      "text/plain": [
       "<Figure size 1080x720 with 1 Axes>"
      ]
     },
     "metadata": {
      "needs_background": "light"
     },
     "output_type": "display_data"
    }
   ],
   "source": [
    "plt.figure(figsize=(15,10))\n",
    "plt.scatter(inv_y_test_PD,inv_y_pred_PD_Model2)\n",
    "plt.xlabel(\"Actual\")\n",
    "plt.ylabel(\"Predicted\")\n",
    "plt.title(\"Echte vs voorspelde waarde  | Model 2\")"
   ]
  },
  {
   "cell_type": "code",
   "execution_count": null,
   "metadata": {},
   "outputs": [],
   "source": []
  }
 ],
 "metadata": {
  "kernelspec": {
   "display_name": "casus",
   "language": "python",
   "name": "casus"
  },
  "language_info": {
   "codemirror_mode": {
    "name": "ipython",
    "version": 3
   },
   "file_extension": ".py",
   "mimetype": "text/x-python",
   "name": "python",
   "nbconvert_exporter": "python",
   "pygments_lexer": "ipython3",
   "version": "3.7.11"
  }
 },
 "nbformat": 4,
 "nbformat_minor": 2
}
